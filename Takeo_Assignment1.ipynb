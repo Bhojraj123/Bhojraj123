{
 "cells": [
  {
   "cell_type": "markdown",
   "id": "6b4d85d2-4ac3-4152-9486-2a3d7d15ef71",
   "metadata": {},
   "source": [
    "####1. Scenario: You have a list of integers, and you need to find the maximum\n",
    "value in the list.\n",
    "a. Question: How would you find the maximum value from the\n",
    "following list?\n",
    "\n"
   ]
  },
  {
   "cell_type": "markdown",
   "id": "b5c30237-d597-4ddf-9244-349279682887",
   "metadata": {},
   "source": [
    "#### Find the Maximum value in a list"
   ]
  },
  {
   "cell_type": "code",
   "execution_count": 3,
   "id": "1af778d4-e930-45f0-801f-660d9c7fb38d",
   "metadata": {},
   "outputs": [
    {
     "name": "stdout",
     "output_type": "stream",
     "text": [
      "The maximum value is: 10\n"
     ]
    }
   ],
   "source": [
    "# Code to find the maximum value in a list\n",
    "numbers = [4,5,7,2,8,10]\n",
    "max_value = max(numbers)\n",
    "print(f\"The maximum value is: {max_value}\")"
   ]
  },
  {
   "cell_type": "markdown",
   "id": "e079bfaf-5681-4d4b-9f66-3751a56fd075",
   "metadata": {},
   "source": [
    "####2. Scenario: You need to concatenate a list of strings into a single string,\n",
    "with each string separated by a comma.\n",
    "a. Question: How would you combine the following list of strings into\n",
    "a single string?"
   ]
  },
  {
   "cell_type": "markdown",
   "id": "0b2d2d3a-2996-408e-a011-b4158eda1666",
   "metadata": {},
   "source": [
    "### Concatenate a list of Strings"
   ]
  },
  {
   "cell_type": "code",
   "execution_count": 5,
   "id": "3652d769-cdb0-46b4-b563-5bfa27673158",
   "metadata": {},
   "outputs": [
    {
     "name": "stdout",
     "output_type": "stream",
     "text": [
      "hello how are you\n"
     ]
    }
   ],
   "source": [
    "#Concatenate a list of strings with a comma seperator\n",
    "my_list = [\"hello\", \"how\", \"are\", \"you\"]\n",
    "result = \" \".join(my_list)\n",
    "print(result)\n"
   ]
  },
  {
   "cell_type": "markdown",
   "id": "4e1ae6b9-7564-4597-bda8-5d5d088ce8e7",
   "metadata": {},
   "source": [
    "3. Scenario: You have a dictionary where the keys are names and the\n",
    "values are ages. You need to retrieve the age of a specific person.\n",
    "a. Question: How would you get the age of \"Dev\" from the following\n",
    "dictionary?\n"
   ]
  },
  {
   "cell_type": "markdown",
   "id": "1518284e-f0c1-403b-944b-5888d9608b1b",
   "metadata": {},
   "source": [
    "#### Retrive the age of a Specific Person"
   ]
  },
  {
   "cell_type": "code",
   "execution_count": 7,
   "id": "36459c39-1c29-4e87-a122-72e1b3acf100",
   "metadata": {},
   "outputs": [
    {
     "name": "stdout",
     "output_type": "stream",
     "text": [
      "Dev's age is: 24\n"
     ]
    }
   ],
   "source": [
    "# Dictionary with names as keys and ages as values\n",
    "ages = {\"Ram\": 23, \"Hari\": 42, \"Dev\": 24, \"Anish\": 45}\n",
    "dev_age = ages.get(\"Dev\")\n",
    "print(f\"Dev's age is: {dev_age}\")\n"
   ]
  },
  {
   "cell_type": "markdown",
   "id": "dabff10d-63aa-42c9-a9de-1f35a9bdf700",
   "metadata": {},
   "source": [
    "4. Scenario: You need to remove duplicate elements from a list while\n",
    "preserving the original order of elements.\n",
    "a. Question: How would you remove duplicates from the following\n",
    "list?\n"
   ]
  },
  {
   "cell_type": "markdown",
   "id": "5a89669d-de20-4ea0-9a30-05b94745b554",
   "metadata": {},
   "source": [
    "#### Remove Duplicates while Preserving Order"
   ]
  },
  {
   "cell_type": "code",
   "execution_count": 9,
   "id": "ca622073-325e-4c27-9a7c-8042ea7baeb8",
   "metadata": {},
   "outputs": [
    {
     "name": "stdout",
     "output_type": "stream",
     "text": [
      "[1, 2, 3, 4, 5]\n"
     ]
    }
   ],
   "source": [
    "# Method to remove duplicate while preserving order\n",
    "def remove_duplicates(lst):\n",
    "  seen = set()\n",
    "  return [x for x in lst if x not in seen and not seen.add(x)]\n",
    "\n",
    "my_list = [1, 2, 3, 2, 4, 1, 5]\n",
    "result = remove_duplicates(my_list)\n",
    "print(result)"
   ]
  },
  {
   "cell_type": "markdown",
   "id": "37f88a37-6ea6-4d45-bcf4-9168468b197a",
   "metadata": {},
   "source": [
    "5. Scenario: You have a NumPy array and need to compute the sum of all\n",
    "its elements.\n",
    "a. Question: How would you find the sum of elements in the\n",
    "following NumPy array?\n"
   ]
  },
  {
   "cell_type": "markdown",
   "id": "4efe5ab7-e027-4015-bd8c-cd59e55cf722",
   "metadata": {},
   "source": [
    "#### Compute the Sum of All Elements in a NumPy Array"
   ]
  },
  {
   "cell_type": "code",
   "execution_count": 11,
   "id": "f376331c-ff6a-49dd-9d45-80be7c423688",
   "metadata": {},
   "outputs": [
    {
     "data": {
      "text/plain": [
       "18"
      ]
     },
     "execution_count": 11,
     "metadata": {},
     "output_type": "execute_result"
    }
   ],
   "source": [
    "import numpy as np\n",
    "array = np.array([1,2,4,5,6])\n",
    "total_sum = np.sum(array)\n",
    "total_sum"
   ]
  },
  {
   "cell_type": "markdown",
   "id": "296ff242-5c5d-403e-924e-ac0b8fb16d3a",
   "metadata": {},
   "source": [
    "####6. Scenario: You have a 2D NumPy array and need to get the maximum\n",
    "value from each column.\n",
    "a. Question: How would you find the maximum values for each\n",
    "column in the following array?\n"
   ]
  },
  {
   "cell_type": "markdown",
   "id": "0fe06a74-ca35-4b9a-9f3b-af5707f5894e",
   "metadata": {},
   "source": [
    "#### Maximum Values for Each Column in a 2D NumPy Array"
   ]
  },
  {
   "cell_type": "code",
   "execution_count": 13,
   "id": "12e6c5a5-ee4a-4151-81cb-10dcbb5450df",
   "metadata": {},
   "outputs": [
    {
     "name": "stdout",
     "output_type": "stream",
     "text": [
      "The maximum values for each colums are: [10 11 12]\n"
     ]
    }
   ],
   "source": [
    "import numpy as np\n",
    "array = np.array([[1,2,3], [4,5,6],[7,8,9],[10,11,12]])\n",
    "max_value = np .max(array, axis = 0)\n",
    "print(f\"The maximum values for each colums are: {max_value}\")"
   ]
  },
  {
   "cell_type": "markdown",
   "id": "206dc10a-95a5-4259-910d-56e9ce251c1b",
   "metadata": {},
   "source": [
    "7. Scenario: You have a DataFrame and need to sort it by a specific column.\n",
    "a. Question: How would you sort the DataFrame by the \"Age\"\n",
    "column?"
   ]
  },
  {
   "cell_type": "markdown",
   "id": "746c2a6b-2194-4bc7-a2b6-2e72ed9d5ed7",
   "metadata": {},
   "source": [
    "#### Sort a DataFrame by the \"Age\" Column"
   ]
  },
  {
   "cell_type": "code",
   "execution_count": 15,
   "id": "701a9ed0-76f2-4c78-932c-b9820b88c29d",
   "metadata": {},
   "outputs": [
    {
     "data": {
      "text/html": [
       "<div>\n",
       "<style scoped>\n",
       "    .dataframe tbody tr th:only-of-type {\n",
       "        vertical-align: middle;\n",
       "    }\n",
       "\n",
       "    .dataframe tbody tr th {\n",
       "        vertical-align: top;\n",
       "    }\n",
       "\n",
       "    .dataframe thead th {\n",
       "        text-align: right;\n",
       "    }\n",
       "</style>\n",
       "<table border=\"1\" class=\"dataframe\">\n",
       "  <thead>\n",
       "    <tr style=\"text-align: right;\">\n",
       "      <th></th>\n",
       "      <th>Name</th>\n",
       "      <th>Age</th>\n",
       "      <th>City</th>\n",
       "    </tr>\n",
       "  </thead>\n",
       "  <tbody>\n",
       "    <tr>\n",
       "      <th>3</th>\n",
       "      <td>Anup</td>\n",
       "      <td>20</td>\n",
       "      <td>Texas</td>\n",
       "    </tr>\n",
       "    <tr>\n",
       "      <th>2</th>\n",
       "      <td>Anish</td>\n",
       "      <td>21</td>\n",
       "      <td>Maryland</td>\n",
       "    </tr>\n",
       "    <tr>\n",
       "      <th>0</th>\n",
       "      <td>Ram</td>\n",
       "      <td>23</td>\n",
       "      <td>New York</td>\n",
       "    </tr>\n",
       "    <tr>\n",
       "      <th>1</th>\n",
       "      <td>Hari</td>\n",
       "      <td>34</td>\n",
       "      <td>Verginia</td>\n",
       "    </tr>\n",
       "  </tbody>\n",
       "</table>\n",
       "</div>"
      ],
      "text/plain": [
       "    Name  Age      City\n",
       "3   Anup   20     Texas\n",
       "2  Anish   21  Maryland\n",
       "0    Ram   23  New York\n",
       "1   Hari   34  Verginia"
      ]
     },
     "execution_count": 15,
     "metadata": {},
     "output_type": "execute_result"
    }
   ],
   "source": [
    "import pandas as pd\n",
    "data = { 'Name': ['Ram','Hari','Anish', 'Anup'], 'Age': [23,34, 21, 20],\n",
    "        'City': ['New York', 'Verginia', 'Maryland', 'Texas'] }\n",
    "df = pd.DataFrame(data)\n",
    "sorted_df = df.sort_values(by='Age')\n",
    "sorted_df"
   ]
  },
  {
   "cell_type": "markdown",
   "id": "5653bbd1-b4f7-4f79-9a74-e4ab9198252c",
   "metadata": {},
   "source": [
    "8. Scenario: You need to calculate the total sum of a column in a\n",
    "DataFrame.\n",
    "a. Question: How would you find the sum of the \"Sales\" column?\n"
   ]
  },
  {
   "cell_type": "markdown",
   "id": "b20b472a-1e17-4cd0-8e31-2fc70ea7706c",
   "metadata": {},
   "source": [
    "#### Calculate the Total Sum of the \"Sales\" Column "
   ]
  },
  {
   "cell_type": "code",
   "execution_count": 17,
   "id": "89eecbb6-4d1a-4b99-b102-7765f3bb0592",
   "metadata": {},
   "outputs": [
    {
     "data": {
      "text/plain": [
       "1034"
      ]
     },
     "execution_count": 17,
     "metadata": {},
     "output_type": "execute_result"
    }
   ],
   "source": [
    "import pandas as pd\n",
    "data = { 'Product': ['A', 'B', 'C', 'D'],\n",
    "        'Sales': [200, 134, 300, 400],\n",
    "        'Region': ['New York', 'Verginia', 'Maryland', 'Texas'] }\n",
    "df = pd.DataFrame(data)\n",
    "total_sales = df['Sales'].sum()\n",
    "total_sales"
   ]
  },
  {
   "cell_type": "markdown",
   "id": "4a946ced-b66b-4d6b-8627-162771dc28c2",
   "metadata": {},
   "source": [
    "9. Scenario: You need to check if a variable is of type int.\n",
    "a. Question: How would you verify if a variable x is an integer?"
   ]
  },
  {
   "cell_type": "markdown",
   "id": "4feb21a8-f774-433f-b473-0aa5dadc3ce7",
   "metadata": {},
   "source": [
    "#### Check if a Variable is of Type 'int'"
   ]
  },
  {
   "cell_type": "code",
   "execution_count": 19,
   "id": "e52a5734-2a77-4b97-b6ab-339c66292c70",
   "metadata": {},
   "outputs": [
    {
     "name": "stdout",
     "output_type": "stream",
     "text": [
      "x is an integer\n"
     ]
    }
   ],
   "source": [
    "# example Variable\n",
    "x = 5\n",
    "if type(x) is int:\n",
    "  print(\"x is an integer\")\n",
    "else:\n",
    "  print(\"x is not an integer\")"
   ]
  },
  {
   "cell_type": "markdown",
   "id": "2575624d-f231-417e-9e4f-e373758f32be",
   "metadata": {},
   "source": [
    "Scenario: You have a list of mixed types and need to create separate lists\n",
    "for integers, floats, and strings.\n",
    "a. Question: How would you categorize the following mixed list into\n",
    "different types?"
   ]
  },
  {
   "cell_type": "markdown",
   "id": "306b52e0-2410-47a6-b13b-e16f6f2a260d",
   "metadata": {},
   "source": [
    "#### Categorize a Mixed List into Different Types"
   ]
  },
  {
   "cell_type": "code",
   "execution_count": 21,
   "id": "a2af6585-44dd-498e-9e09-69c70aeb5efe",
   "metadata": {},
   "outputs": [
    {
     "name": "stdout",
     "output_type": "stream",
     "text": [
      "Integers: [1, 4, 9]\n",
      "floats: [2.5, 5.0, 4.3]\n",
      "Strings: ['apple', 'banana', 'cherry']\n"
     ]
    }
   ],
   "source": [
    "# example mixed list\n",
    "mixed_list = [1, 2.5, 'apple', 4, 'banana', 5.0, 'cherry', 9, 4.3]\n",
    "#Initialize integers, floats, and strings\n",
    "integers = []\n",
    "floats = []\n",
    "strings = []\n",
    "for item in mixed_list:\n",
    "    if isinstance(item, int):\n",
    "        integers.append(item)\n",
    "    elif isinstance(item, float):\n",
    "        floats.append(item)\n",
    "    elif isinstance(item, str):\n",
    "        strings.append(item)\n",
    "\n",
    "#categorized lists\n",
    "print(f\"Integers: {integers}\")\n",
    "print(f\"floats: {floats}\")\n",
    "print(f\"Strings: {strings}\")\n",
    "\n"
   ]
  },
  {
   "cell_type": "markdown",
   "id": "cd32de18-5473-41cd-b520-6f8e6042be6f",
   "metadata": {},
   "source": [
    "11.Scenario: You are given a string of comma-separated numbers. You\n",
    "need to convert this string into a list of integers.\n",
    "a. Question: How would you achieve this conversion?"
   ]
  },
  {
   "cell_type": "markdown",
   "id": "b9b474c6-d6d3-4992-94a3-2f270bbf0180",
   "metadata": {},
   "source": [
    "#### Convert a comma_Seperated String to a list of Integers"
   ]
  },
  {
   "cell_type": "code",
   "execution_count": 23,
   "id": "066856eb-b6ba-4393-a33d-5b6f9977bdeb",
   "metadata": {},
   "outputs": [
    {
     "data": {
      "text/plain": [
       "[1, 2, 3, 4, 5]"
      ]
     },
     "execution_count": 23,
     "metadata": {},
     "output_type": "execute_result"
    }
   ],
   "source": [
    "comma_separated_string = \"1,2,3,4,5\"\n",
    "\n",
    "# Split the string into a list of strings\n",
    "string_list = comma_separated_string.split(\",\")\n",
    "\n",
    "# Convert each string to an integer using map()\n",
    "integer_list = list(map(int, string_list))\n",
    "integer_list"
   ]
  },
  {
   "cell_type": "markdown",
   "id": "6bd9d4f3-26fc-40f4-9258-b5472fa4bb32",
   "metadata": {},
   "source": [
    "12.Scenario: You need to reverse the words in a sentence while keeping the\n",
    "order of the words intact.\n",
    "a. Question: How would you reverse each word in the following\n",
    "sentence?"
   ]
  },
  {
   "cell_type": "markdown",
   "id": "bb42c8b0-4448-43b1-a4cc-6788d0f60159",
   "metadata": {},
   "source": [
    "#### Reverse Each Word in a Sentence"
   ]
  },
  {
   "cell_type": "code",
   "execution_count": 25,
   "id": "1c7e245e-3e8e-46d9-836c-79bd9ed59eff",
   "metadata": {},
   "outputs": [
    {
     "data": {
      "text/plain": [
       "'olleH dlroW'"
      ]
     },
     "execution_count": 25,
     "metadata": {},
     "output_type": "execute_result"
    }
   ],
   "source": [
    "sentence = \"Hello World\"\n",
    "words = sentence.split()\n",
    "reversed_words = [word[::-1]for word in words]\n",
    "reversed_sentence = ' '.join(reversed_words)\n",
    "reversed_sentence"
   ]
  },
  {
   "cell_type": "markdown",
   "id": "62745e1c-e2e2-43c9-b944-0f76d9484292",
   "metadata": {},
   "source": [
    "13.Scenario: You need to combine two lists into a dictionary where the\n",
    "elements of the first list are keys and the elements of the second list are\n",
    "values.\n",
    "a. Question: How would you combine the following lists into a\n",
    "dictionary?"
   ]
  },
  {
   "cell_type": "markdown",
   "id": "b3f273d1-456a-48f3-a1bc-42849cd6a89c",
   "metadata": {},
   "source": [
    "#### Combine Two lists into a Dictionary"
   ]
  },
  {
   "cell_type": "code",
   "execution_count": 27,
   "id": "e811af45-56cc-46c1-80ea-33c77b784d37",
   "metadata": {},
   "outputs": [
    {
     "data": {
      "text/plain": [
       "{'A': 1, 'B': 2, 'C': 3, 'D': 4}"
      ]
     },
     "execution_count": 27,
     "metadata": {},
     "output_type": "execute_result"
    }
   ],
   "source": [
    "keys = ['A', 'B', 'C', 'D']\n",
    "values = [1, 2, 3, 4]\n",
    "combined_dict = dict(zip(keys, values))\n",
    "combined_dict"
   ]
  },
  {
   "cell_type": "markdown",
   "id": "23f2a75b-e279-4b8e-8a1d-408986538ab0",
   "metadata": {},
   "source": [
    "14.Scenario: You are given a list of tuples where each tuple contains a name\n",
    "and an age. You need to sort this list by age.\n",
    "a. Question: How would you sort the following list of tuples by age?"
   ]
  },
  {
   "cell_type": "markdown",
   "id": "7993f5cf-ab93-4f64-b78b-08fb61879836",
   "metadata": {},
   "source": [
    "#### Sort a list of Tuples by Age"
   ]
  },
  {
   "cell_type": "code",
   "execution_count": 29,
   "id": "4fb2f8dd-6f7b-482b-be9d-3b973668ef24",
   "metadata": {},
   "outputs": [
    {
     "data": {
      "text/plain": [
       "[('Sita', 25), ('DInesh', 25), ('Ram', 30), ('Hari', 40)]"
      ]
     },
     "execution_count": 29,
     "metadata": {},
     "output_type": "execute_result"
    }
   ],
   "source": [
    "people = [('Ram', 30), ('Sita', 25), ('Hari', 40), ('DInesh', 25)]\n",
    "sorted_people = sorted(people, key=lambda x: x[1])\n",
    "sorted_people"
   ]
  },
  {
   "cell_type": "markdown",
   "id": "079c64f2-04c0-415b-b064-26ec648db34a",
   "metadata": {},
   "source": [
    "15.Scenario: You have a 2D NumPy array and need to calculate the mean\n",
    "value of each row.\n",
    "a. Question: How would you compute the mean value for each row\n",
    "in the following array?"
   ]
  },
  {
   "cell_type": "markdown",
   "id": "2364e700-cc43-42ca-87d1-60fbeb86068c",
   "metadata": {},
   "source": [
    "#### Compute the mean Value for each Row in a 2D NumPy Array"
   ]
  },
  {
   "cell_type": "code",
   "execution_count": 31,
   "id": "d6b39bc8-9f52-4258-8945-f9f632c256fe",
   "metadata": {},
   "outputs": [
    {
     "data": {
      "text/plain": [
       "array([ 2.,  5.,  8., 11.])"
      ]
     },
     "execution_count": 31,
     "metadata": {},
     "output_type": "execute_result"
    }
   ],
   "source": [
    "import numpy as np\n",
    "array = np.array([[1, 2, 3],\n",
    "                 [4, 5, 6],\n",
    "                 [7, 8, 9],\n",
    "                 [10, 11, 12]])\n",
    "mean_value = np.mean(array, axis = 1)\n",
    "mean_value"
   ]
  },
  {
   "cell_type": "markdown",
   "id": "d769c890-e5de-46fd-898b-c6d4deec99fa",
   "metadata": {},
   "source": [
    "16.Scenario: You need to create a NumPy array of size 10 filled with zeros,\n",
    "and then set the fifth element to 5.\n",
    "a. Question: How would you create and modify the array as\n",
    "described?"
   ]
  },
  {
   "cell_type": "markdown",
   "id": "a1d297ec-d018-48a0-80b4-588222b0f72b",
   "metadata": {},
   "source": [
    "#### Create a NumPy Array of size 10 Filled with Zeros and Set the Fifth Element to 5"
   ]
  },
  {
   "cell_type": "code",
   "execution_count": 33,
   "id": "9ccafdd6-4bd7-4c5e-b368-671a3cae9f3a",
   "metadata": {},
   "outputs": [
    {
     "data": {
      "text/plain": [
       "array([0., 0., 0., 0., 5., 0., 0., 0., 0., 0.])"
      ]
     },
     "execution_count": 33,
     "metadata": {},
     "output_type": "execute_result"
    }
   ],
   "source": [
    "import numpy as np\n",
    "array = np.zeros(10)\n",
    "array[4] = 5\n",
    "array"
   ]
  },
  {
   "cell_type": "markdown",
   "id": "85b62e45-2aa4-43a6-9515-c3b2dde8e62c",
   "metadata": {},
   "source": [
    "17.Scenario: You have a DataFrame and need to find the median of a\n",
    "numeric column.\n",
    "a. Question: How would you find the median of the \"Scores\" column\n",
    "in the following DataFrame?"
   ]
  },
  {
   "cell_type": "markdown",
   "id": "8a46556d-ba4a-4183-b32b-0ee158a95cc7",
   "metadata": {},
   "source": [
    "#### Find the Median of the \"Scores\" Column in a dataFrame"
   ]
  },
  {
   "cell_type": "code",
   "execution_count": 35,
   "id": "365c4a36-723e-472d-be9c-71b77ebb408b",
   "metadata": {},
   "outputs": [
    {
     "data": {
      "text/plain": [
       "37.5"
      ]
     },
     "execution_count": 35,
     "metadata": {},
     "output_type": "execute_result"
    }
   ],
   "source": [
    "import pandas as pd\n",
    "data = { 'Name': ['Ram', 'Hari', 'Sita', 'Navin'], 'Scores': [20, 30, 45, 57] }\n",
    "df = pd.DataFrame(data)\n",
    "median_score = df['Scores'].median()\n",
    "median_score"
   ]
  },
  {
   "cell_type": "markdown",
   "id": "8441c8e4-29be-4fe9-9f43-db80590e1563",
   "metadata": {},
   "source": [
    "18.Scenario: You need to filter rows where the value in the \"Sales\" column\n",
    "is above 100 and then sort these rows by \"Date\" in descending order.\n",
    "a. Question: How would you filter and sort the DataFrame based on\n",
    "the given criteria?\n"
   ]
  },
  {
   "cell_type": "markdown",
   "id": "34fab2f3-eb69-4781-9e07-7c9e61b3d538",
   "metadata": {},
   "source": [
    "#### Filter and Sort a Dataframe  Based on the criteria"
   ]
  },
  {
   "cell_type": "code",
   "execution_count": 37,
   "id": "d2e6bf00-9a01-401b-83c0-cecb6c256bbd",
   "metadata": {},
   "outputs": [
    {
     "name": "stdout",
     "output_type": "stream",
     "text": [
      "         date product  sales\n",
      "1  2023-11-16       B    150\n"
     ]
    }
   ],
   "source": [
    "import pandas as pd\n",
    "data = {'date': ['2023-11-15', '2023-11-16', '2023-11-15', '2023-11-17'],\n",
    "        'product': ['A', 'B', 'A', 'C'],\n",
    "        'sales': [100, 150, 80, 200]}\n",
    "df = pd.DataFrame(data)\n",
    "result_df = df[(df['product'].isin(['A', 'B'])) &\n",
    "(df['sales'] > 100)].sort_values(by='date', ascending=False)\n",
    "print(result_df)\n",
    "        "
   ]
  },
  {
   "cell_type": "markdown",
   "id": "46435e93-a69b-483c-8c93-7965ce9db85e",
   "metadata": {},
   "source": [
    "19.Scenario: You have a string containing a number and need to convert it\n",
    "to an integer. Additionally, handle the case where the string might not\n",
    "represent a valid integer.\n",
    "a. Question: How would you safely convert the string \"42\" to an\n",
    "integer and handle invalid cases?"
   ]
  },
  {
   "cell_type": "markdown",
   "id": "569120ce-e184-4493-9622-3ac61e6cdcce",
   "metadata": {},
   "source": [
    "#### Safely Convert a String to an Integer and Handle Invalid Cases"
   ]
  },
  {
   "cell_type": "code",
   "execution_count": 39,
   "id": "c9dc557f-8952-48b9-914f-c0f48367e232",
   "metadata": {},
   "outputs": [
    {
     "name": "stdout",
     "output_type": "stream",
     "text": [
      "The integer value is: 42\n"
     ]
    }
   ],
   "source": [
    "number_string = \"42\"\n",
    "try:\n",
    "    number = int(number_string)\n",
    "    print(f\"The integer value is: {number}\")\n",
    "except ValueError:\n",
    "    print(f\"Error: '{number_string}' is not a valid integer.\")\n",
    "    "
   ]
  },
  {
   "cell_type": "markdown",
   "id": "840a3e0d-bc37-4229-9608-02f4bf0cbf82",
   "metadata": {},
   "source": [
    "20.Scenario: You have a list containing different data types, and you want\n",
    "to separate out all the strings.\n",
    "a. Question: How would you extract all string elements from the\n",
    "following list?"
   ]
  },
  {
   "cell_type": "markdown",
   "id": "78c96792-847c-48d4-a3a2-18c62e19fd8a",
   "metadata": {},
   "source": [
    "#### Extract All String Elements from a list"
   ]
  },
  {
   "cell_type": "code",
   "execution_count": 41,
   "id": "587da8d6-f59a-46fd-8b10-9eec79f4a316",
   "metadata": {},
   "outputs": [
    {
     "data": {
      "text/plain": [
       "['hello', 'world']"
      ]
     },
     "execution_count": 41,
     "metadata": {},
     "output_type": "execute_result"
    }
   ],
   "source": [
    "# Example usage:\n",
    "my_list = [1, \"hello\", 3.14, \"world\", True]\n",
    "string_elements = [item for item in my_list if isinstance(item, str)]\n",
    "string_elements"
   ]
  },
  {
   "cell_type": "code",
   "execution_count": null,
   "id": "0e1b70b6-87e2-46c9-87e1-73b2a3914afc",
   "metadata": {},
   "outputs": [],
   "source": []
  }
 ],
 "metadata": {
  "kernelspec": {
   "display_name": "Python 3 (ipykernel)",
   "language": "python",
   "name": "python3"
  },
  "language_info": {
   "codemirror_mode": {
    "name": "ipython",
    "version": 3
   },
   "file_extension": ".py",
   "mimetype": "text/x-python",
   "name": "python",
   "nbconvert_exporter": "python",
   "pygments_lexer": "ipython3",
   "version": "3.12.4"
  }
 },
 "nbformat": 4,
 "nbformat_minor": 5
}
