{
 "cells": [
  {
   "cell_type": "code",
   "execution_count": 1,
   "id": "ff2fd658-1e6d-45b7-b637-f0c491f448ee",
   "metadata": {},
   "outputs": [
    {
     "name": "stdout",
     "output_type": "stream",
     "text": [
      "1\n",
      "2\n",
      "3\n",
      "4\n",
      "5\n",
      "6\n",
      "7\n",
      "8\n",
      "9\n",
      "10\n"
     ]
    }
   ],
   "source": [
    "num = [1, 2,3, 4, 5, 6, 7, 8, 9, 10]\n",
    "for i in num:\n",
    "    print(i)\n"
   ]
  },
  {
   "cell_type": "code",
   "execution_count": 2,
   "id": "2a6603d2-9ef7-4540-9344-286cef458e64",
   "metadata": {},
   "outputs": [
    {
     "name": "stdout",
     "output_type": "stream",
     "text": [
      "False\n"
     ]
    }
   ],
   "source": [
    "statement = \"I am happy with the product\"\n",
    "print(\"happy\" not in statement)"
   ]
  },
  {
   "cell_type": "code",
   "execution_count": 3,
   "id": "95893590-36cb-476f-8439-63ac1715bbf6",
   "metadata": {},
   "outputs": [
    {
     "name": "stdout",
     "output_type": "stream",
     "text": [
      "True\n"
     ]
    }
   ],
   "source": [
    "statement = \"I am happy with the product\"\n",
    "print(\"happy\"  in statement)"
   ]
  },
  {
   "cell_type": "code",
   "execution_count": 4,
   "id": "2ff054e4-1f24-4286-9f3a-30ca84f6531d",
   "metadata": {},
   "outputs": [
    {
     "name": "stdout",
     "output_type": "stream",
     "text": [
      "shu Su\n"
     ]
    }
   ],
   "source": [
    "name = \"Anshu Subedi\"\n",
    "print(name[2:8])"
   ]
  },
  {
   "cell_type": "code",
   "execution_count": 5,
   "id": "4148e148-475b-478a-8cb8-a6411401eade",
   "metadata": {},
   "outputs": [
    {
     "name": "stdout",
     "output_type": "stream",
     "text": [
      "shu Subedi\n"
     ]
    }
   ],
   "source": [
    "name = \"Anshu Subedi\"\n",
    "print(name[2:])"
   ]
  },
  {
   "cell_type": "code",
   "execution_count": 6,
   "id": "9b96a665-63da-4b10-8f20-94b15187a97f",
   "metadata": {},
   "outputs": [
    {
     "name": "stdout",
     "output_type": "stream",
     "text": [
      "VIPIN PARAJULI\n"
     ]
    }
   ],
   "source": [
    "name = \"vipin Parajuli\"\n",
    "print(name.upper())"
   ]
  },
  {
   "cell_type": "code",
   "execution_count": 7,
   "id": "26e3f008-b92a-4f24-82f5-b1d957a83638",
   "metadata": {},
   "outputs": [
    {
     "name": "stdout",
     "output_type": "stream",
     "text": [
      "Vipin Parajuli\n"
     ]
    }
   ],
   "source": [
    "name = \" Vipin Parajuli\"\n",
    "print(name.strip())\n",
    "name = name.strip()"
   ]
  },
  {
   "cell_type": "code",
   "execution_count": 8,
   "id": "2a8fcece-b22d-43e0-aaad-1f2e9350b543",
   "metadata": {},
   "outputs": [
    {
     "data": {
      "text/plain": [
       "[1, 2, 3, 5, 6, 'Dev', 3.0]"
      ]
     },
     "execution_count": 8,
     "metadata": {},
     "output_type": "execute_result"
    }
   ],
   "source": [
    "import numpy as np\n",
    "lists = [1,2,3,5,6,\"Dev\",3.0]\n",
    "lists"
   ]
  },
  {
   "cell_type": "code",
   "execution_count": 9,
   "id": "ac7c5504-38aa-423b-8d9c-338b3ca77f56",
   "metadata": {},
   "outputs": [
    {
     "data": {
      "text/plain": [
       "array(['1', '2', '3', '4', '5', '6', 'Dev', '4', '5', '12', '123'],\n",
       "      dtype='<U11')"
      ]
     },
     "execution_count": 9,
     "metadata": {},
     "output_type": "execute_result"
    }
   ],
   "source": [
    "nparray = np.array([1,2,3,4,5,6,\"Dev\", 4,5,12,123])\n",
    "nparray\n"
   ]
  },
  {
   "cell_type": "code",
   "execution_count": 10,
   "id": "9f73ba80-eaa5-4d1c-9807-ff89d3ad5506",
   "metadata": {},
   "outputs": [
    {
     "data": {
      "text/plain": [
       "'1'"
      ]
     },
     "execution_count": 10,
     "metadata": {},
     "output_type": "execute_result"
    }
   ],
   "source": [
    "nparray[0]"
   ]
  },
  {
   "cell_type": "code",
   "execution_count": 11,
   "id": "061a08a8-0f6f-4b3f-81c6-d8d8fbd0676e",
   "metadata": {},
   "outputs": [
    {
     "data": {
      "text/plain": [
       "'4'"
      ]
     },
     "execution_count": 11,
     "metadata": {},
     "output_type": "execute_result"
    }
   ],
   "source": [
    "nparray[7]"
   ]
  },
  {
   "cell_type": "code",
   "execution_count": 12,
   "id": "5fa858ad-cb36-466e-89f6-49ff9e8820cb",
   "metadata": {},
   "outputs": [
    {
     "data": {
      "text/plain": [
       "array(['1', '2', '3', '4', '5', '6'], dtype='<U11')"
      ]
     },
     "execution_count": 12,
     "metadata": {},
     "output_type": "execute_result"
    }
   ],
   "source": [
    "nparray[:6]"
   ]
  },
  {
   "cell_type": "code",
   "execution_count": 13,
   "id": "d57cfd90-176c-42ff-b009-c2df3b4b0faa",
   "metadata": {},
   "outputs": [
    {
     "data": {
      "text/plain": [
       "array(['30', '2', '3', '4', '5', '6', 'Dev', '4', '5', '12', '123'],\n",
       "      dtype='<U11')"
      ]
     },
     "execution_count": 13,
     "metadata": {},
     "output_type": "execute_result"
    }
   ],
   "source": [
    "nparray[0] = 30\n",
    "nparray"
   ]
  },
  {
   "cell_type": "code",
   "execution_count": 14,
   "id": "d6d79b01-adc6-4b7e-978d-c62c1ab9adc8",
   "metadata": {},
   "outputs": [
    {
     "data": {
      "text/plain": [
       "numpy.ndarray"
      ]
     },
     "execution_count": 14,
     "metadata": {},
     "output_type": "execute_result"
    }
   ],
   "source": [
    "nparray = np.array([1,2,3,4,5,6,7,8,9])\n",
    "type(nparray)"
   ]
  },
  {
   "cell_type": "markdown",
   "id": "e97a5c7a-45c1-4f64-8d26-bfadcb9c949b",
   "metadata": {},
   "source": [
    "###### list VS numpyarray"
   ]
  },
  {
   "cell_type": "code",
   "execution_count": 16,
   "id": "550646b1-2410-436f-949a-b6ae6471938e",
   "metadata": {},
   "outputs": [
    {
     "data": {
      "text/plain": [
       "array([1, 2, 3, 4, 5, 6, 7, 8])"
      ]
     },
     "execution_count": 16,
     "metadata": {},
     "output_type": "execute_result"
    }
   ],
   "source": [
    "l = [1,2,3,4,5,6,7,8]\n",
    "ndarray = np.array([1,2,3,4,5,6,7,8])\n",
    "ndarray"
   ]
  },
  {
   "cell_type": "code",
   "execution_count": 17,
   "id": "1c88c359-165c-480a-b96a-1ff7354ca082",
   "metadata": {},
   "outputs": [
    {
     "data": {
      "text/plain": [
       "numpy.ndarray"
      ]
     },
     "execution_count": 17,
     "metadata": {},
     "output_type": "execute_result"
    }
   ],
   "source": [
    "type(ndarray)"
   ]
  },
  {
   "cell_type": "code",
   "execution_count": 18,
   "id": "0afac449-11d9-4432-b9fa-68815daaebd6",
   "metadata": {},
   "outputs": [
    {
     "data": {
      "text/plain": [
       "1"
      ]
     },
     "execution_count": 18,
     "metadata": {},
     "output_type": "execute_result"
    }
   ],
   "source": [
    "ndarray.ndim"
   ]
  },
  {
   "cell_type": "code",
   "execution_count": 19,
   "id": "a85b49f5-e043-4f47-aefd-2e6073409fb7",
   "metadata": {},
   "outputs": [
    {
     "data": {
      "text/plain": [
       "(8,)"
      ]
     },
     "execution_count": 19,
     "metadata": {},
     "output_type": "execute_result"
    }
   ],
   "source": [
    "ndarray.shape"
   ]
  },
  {
   "cell_type": "code",
   "execution_count": 20,
   "id": "eeb14bf1-b4cc-4aa2-a75e-12660ee7f78f",
   "metadata": {},
   "outputs": [
    {
     "data": {
      "text/plain": [
       "8"
      ]
     },
     "execution_count": 20,
     "metadata": {},
     "output_type": "execute_result"
    }
   ],
   "source": [
    "ndarray.size"
   ]
  },
  {
   "cell_type": "code",
   "execution_count": 21,
   "id": "28699d82-3319-4778-b84e-e6365e8a3f74",
   "metadata": {},
   "outputs": [
    {
     "data": {
      "text/plain": [
       "dtype('int32')"
      ]
     },
     "execution_count": 21,
     "metadata": {},
     "output_type": "execute_result"
    }
   ],
   "source": [
    "ndarray.dtype"
   ]
  },
  {
   "cell_type": "code",
   "execution_count": 54,
   "id": "b7ce91f6-edd8-4a74-af54-a323af021780",
   "metadata": {},
   "outputs": [],
   "source": [
    "lists = [1,2,3,4,5]"
   ]
  },
  {
   "cell_type": "code",
   "execution_count": 56,
   "id": "7355af81-dd2b-4757-bf3e-99b85b7990c2",
   "metadata": {},
   "outputs": [],
   "source": [
    "######1-D Vs 2-D lists"
   ]
  },
  {
   "cell_type": "code",
   "execution_count": 49,
   "id": "968f8601-31a8-4f86-97ac-91806310d78b",
   "metadata": {},
   "outputs": [],
   "source": [
    "lists = [1,2,3,4,5]"
   ]
  },
  {
   "cell_type": "code",
   "execution_count": 51,
   "id": "d7187ecd-43fb-4c9e-827c-11f6a10e1692",
   "metadata": {},
   "outputs": [
    {
     "data": {
      "text/plain": [
       "[1, 2, 3, 4, 5]"
      ]
     },
     "execution_count": 51,
     "metadata": {},
     "output_type": "execute_result"
    }
   ],
   "source": [
    "import numpy as np\n",
    "lists = [1,2,3,4,5]\n",
    "lists"
   ]
  },
  {
   "cell_type": "code",
   "execution_count": 53,
   "id": "36d7592c-98ec-4600-847d-e697a2fa2cf6",
   "metadata": {},
   "outputs": [],
   "source": [
    "###2-D numpy array"
   ]
  },
  {
   "cell_type": "code",
   "execution_count": 55,
   "id": "ba16f4d8-ca52-4b8c-90f3-ab424d38591d",
   "metadata": {},
   "outputs": [
    {
     "data": {
      "text/plain": [
       "array([[ 1,  2,  3,  4,  5],\n",
       "       [ 6,  7,  8,  9, 10],\n",
       "       [11, 12, 13, 14, 15]])"
      ]
     },
     "execution_count": 55,
     "metadata": {},
     "output_type": "execute_result"
    }
   ],
   "source": [
    "ndarray2 = np.array([[1,2,3,4,5], [6,7,8,9,10], [11,12,13,14,15]])\n",
    "ndarray2"
   ]
  },
  {
   "cell_type": "code",
   "execution_count": 57,
   "id": "18a2b1c5-3228-40f8-8961-94f7824bfddb",
   "metadata": {},
   "outputs": [
    {
     "data": {
      "text/plain": [
       "2"
      ]
     },
     "execution_count": 57,
     "metadata": {},
     "output_type": "execute_result"
    }
   ],
   "source": [
    "ndarray2.ndim"
   ]
  },
  {
   "cell_type": "code",
   "execution_count": 59,
   "id": "c0449b72-6609-4f8b-98dc-f65be4ab58e3",
   "metadata": {},
   "outputs": [
    {
     "data": {
      "text/plain": [
       "15"
      ]
     },
     "execution_count": 59,
     "metadata": {},
     "output_type": "execute_result"
    }
   ],
   "source": [
    "ndarray2.size"
   ]
  },
  {
   "cell_type": "code",
   "execution_count": 61,
   "id": "a2a7fa97-f665-447a-a4db-da4bb0057f64",
   "metadata": {},
   "outputs": [
    {
     "data": {
      "text/plain": [
       "(3, 5)"
      ]
     },
     "execution_count": 61,
     "metadata": {},
     "output_type": "execute_result"
    }
   ],
   "source": [
    "ndarray2.shape"
   ]
  },
  {
   "cell_type": "code",
   "execution_count": 63,
   "id": "141eabd0-6334-4b1b-9b04-3d1ee1be7e9e",
   "metadata": {},
   "outputs": [
    {
     "data": {
      "text/plain": [
       "dtype('int32')"
      ]
     },
     "execution_count": 63,
     "metadata": {},
     "output_type": "execute_result"
    }
   ],
   "source": [
    "ndarray2.dtype"
   ]
  },
  {
   "cell_type": "code",
   "execution_count": 65,
   "id": "c172e33b-7222-4f67-bc2c-2cdb2ea7e7b0",
   "metadata": {},
   "outputs": [
    {
     "data": {
      "text/plain": [
       "array([0., 0., 0., 0., 0., 0., 0., 0., 0.])"
      ]
     },
     "execution_count": 65,
     "metadata": {},
     "output_type": "execute_result"
    }
   ],
   "source": [
    "np.zeros(9)"
   ]
  },
  {
   "cell_type": "code",
   "execution_count": 67,
   "id": "97339d0a-2545-41a0-975b-75aa6e894cfb",
   "metadata": {},
   "outputs": [
    {
     "data": {
      "text/plain": [
       "array([1., 1., 1., 1., 1., 1., 1., 1., 1.])"
      ]
     },
     "execution_count": 67,
     "metadata": {},
     "output_type": "execute_result"
    }
   ],
   "source": [
    "np.ones(9)"
   ]
  },
  {
   "cell_type": "code",
   "execution_count": 69,
   "id": "5fb59169-026c-4280-ad21-9e3163c4fb3e",
   "metadata": {},
   "outputs": [
    {
     "data": {
      "text/plain": [
       "array([1., 1., 1., 1., 1., 1., 1., 1., 1.])"
      ]
     },
     "execution_count": 69,
     "metadata": {},
     "output_type": "execute_result"
    }
   ],
   "source": [
    "np.empty(9)"
   ]
  },
  {
   "cell_type": "code",
   "execution_count": 71,
   "id": "c84183af-552f-4882-9e17-756fe8d729af",
   "metadata": {},
   "outputs": [
    {
     "data": {
      "text/plain": [
       "array([ 0,  2,  4,  6,  8, 10, 12, 14, 16, 18, 20, 22, 24, 26, 28, 30, 32,\n",
       "       34, 36, 38, 40, 42, 44, 46, 48])"
      ]
     },
     "execution_count": 71,
     "metadata": {},
     "output_type": "execute_result"
    }
   ],
   "source": [
    "np.arange(0,50,2)"
   ]
  },
  {
   "cell_type": "code",
   "execution_count": 73,
   "id": "3e6ccf73-1560-48ab-b3ee-983ad9b79ed1",
   "metadata": {},
   "outputs": [
    {
     "data": {
      "text/plain": [
       "array([ 0.,  4.,  8., 12., 16., 20.])"
      ]
     },
     "execution_count": 73,
     "metadata": {},
     "output_type": "execute_result"
    }
   ],
   "source": [
    "np.linspace(0,20, num=6)"
   ]
  },
  {
   "cell_type": "code",
   "execution_count": 77,
   "id": "c0701f9a-ec0b-4ea6-a922-ef10045f48b1",
   "metadata": {},
   "outputs": [
    {
     "data": {
      "text/plain": [
       "array([34, 56, 43, 23, 45, 87, 89])"
      ]
     },
     "execution_count": 77,
     "metadata": {},
     "output_type": "execute_result"
    }
   ],
   "source": [
    "ndarray3 = np.array([34,56,43,23,45,87,89])\n",
    "ndarray3"
   ]
  },
  {
   "cell_type": "code",
   "execution_count": 79,
   "id": "5d530098-0f8d-47fe-9713-ecda5d3041ea",
   "metadata": {},
   "outputs": [
    {
     "data": {
      "text/plain": [
       "array([23, 34, 43, 45, 56, 87, 89])"
      ]
     },
     "execution_count": 79,
     "metadata": {},
     "output_type": "execute_result"
    }
   ],
   "source": [
    "np.sort(ndarray3)"
   ]
  },
  {
   "cell_type": "code",
   "execution_count": 87,
   "id": "1d0ed773-571c-480f-8764-20763de3b01c",
   "metadata": {},
   "outputs": [
    {
     "data": {
      "text/plain": [
       "array([[ 6,  7, 21],\n",
       "       [ 8,  9, 10]])"
      ]
     },
     "execution_count": 87,
     "metadata": {},
     "output_type": "execute_result"
    }
   ],
   "source": [
    "nd1 = np.array([[1,2,31], [3,4,5]])\n",
    "nd2 = np.array([[6,7,21], [8,9,10]])\n",
    "nd2"
   ]
  },
  {
   "cell_type": "code",
   "execution_count": 89,
   "id": "b0436787-353b-40d8-8ff8-dab52f49aea7",
   "metadata": {},
   "outputs": [
    {
     "data": {
      "text/plain": [
       "array([[ 1,  2, 31],\n",
       "       [ 3,  4,  5],\n",
       "       [ 6,  7, 21],\n",
       "       [ 8,  9, 10]])"
      ]
     },
     "execution_count": 89,
     "metadata": {},
     "output_type": "execute_result"
    }
   ],
   "source": [
    "np.concatenate((nd1,nd2), axis = 0)"
   ]
  },
  {
   "cell_type": "code",
   "execution_count": 91,
   "id": "100da3f5-d01a-4f92-945a-a8f3ad86f275",
   "metadata": {},
   "outputs": [
    {
     "data": {
      "text/plain": [
       "array([[ 1,  2, 31,  6,  7, 21],\n",
       "       [ 3,  4,  5,  8,  9, 10]])"
      ]
     },
     "execution_count": 91,
     "metadata": {},
     "output_type": "execute_result"
    }
   ],
   "source": [
    "np.concatenate((nd1,nd2), axis = 1)"
   ]
  },
  {
   "cell_type": "code",
   "execution_count": null,
   "id": "c5caadff-81e6-42de-a6dc-38bc652dabe8",
   "metadata": {},
   "outputs": [],
   "source": [
    "nd1 = np.array([1,2,31,3,4,5])"
   ]
  },
  {
   "cell_type": "code",
   "execution_count": 95,
   "id": "d5a40dcc-c1f1-4c4b-972e-1fc40d62f0b3",
   "metadata": {},
   "outputs": [
    {
     "data": {
      "text/plain": [
       "array([[ 1,  2, 31],\n",
       "       [ 3,  4,  5]])"
      ]
     },
     "execution_count": 95,
     "metadata": {},
     "output_type": "execute_result"
    }
   ],
   "source": [
    "nd1"
   ]
  },
  {
   "cell_type": "code",
   "execution_count": 97,
   "id": "620382ab-e3d1-491e-b1e0-3803d7a82135",
   "metadata": {},
   "outputs": [
    {
     "data": {
      "text/plain": [
       "array([ 1,  2, 31,  3,  4,  5])"
      ]
     },
     "execution_count": 97,
     "metadata": {},
     "output_type": "execute_result"
    }
   ],
   "source": [
    "nd1 = np.array([1,2,31,3,4,5])\n",
    "nd1"
   ]
  },
  {
   "cell_type": "code",
   "execution_count": 99,
   "id": "261c2cc0-3a30-4fdd-9edb-c9c42a40a990",
   "metadata": {},
   "outputs": [
    {
     "data": {
      "text/plain": [
       "array([[ 1,  2],\n",
       "       [31,  3],\n",
       "       [ 4,  5]])"
      ]
     },
     "execution_count": 99,
     "metadata": {},
     "output_type": "execute_result"
    }
   ],
   "source": [
    "nd1.reshape(3,2)"
   ]
  },
  {
   "cell_type": "code",
   "execution_count": 101,
   "id": "3b2287e5-f59b-479e-8328-3ddf9c5e8f7e",
   "metadata": {},
   "outputs": [
    {
     "data": {
      "text/plain": [
       "array([[ 1],\n",
       "       [ 2],\n",
       "       [31],\n",
       "       [ 3],\n",
       "       [ 4],\n",
       "       [ 5]])"
      ]
     },
     "execution_count": 101,
     "metadata": {},
     "output_type": "execute_result"
    }
   ],
   "source": [
    "nd1.reshape(6,1)"
   ]
  },
  {
   "cell_type": "code",
   "execution_count": 105,
   "id": "55c280db-5ab8-426b-9bd1-dbe85e029673",
   "metadata": {},
   "outputs": [
    {
     "data": {
      "text/plain": [
       "array([ 1,  2, 31,  3,  4,  5])"
      ]
     },
     "execution_count": 105,
     "metadata": {},
     "output_type": "execute_result"
    }
   ],
   "source": [
    "nd1 = np.array([1,2,31,3,4,5])\n",
    "nd1[:]"
   ]
  },
  {
   "cell_type": "code",
   "execution_count": 107,
   "id": "4e0b6528-57bb-4091-9233-437daa17d975",
   "metadata": {},
   "outputs": [
    {
     "data": {
      "text/plain": [
       "array([ 1,  2, 31])"
      ]
     },
     "execution_count": 107,
     "metadata": {},
     "output_type": "execute_result"
    }
   ],
   "source": [
    "nd1[:3]"
   ]
  },
  {
   "cell_type": "code",
   "execution_count": 109,
   "id": "f257696e-30a7-43f0-b0ec-0ef4235f6569",
   "metadata": {},
   "outputs": [
    {
     "data": {
      "text/plain": [
       "array([3, 4, 5])"
      ]
     },
     "execution_count": 109,
     "metadata": {},
     "output_type": "execute_result"
    }
   ],
   "source": [
    "nd1[3:]"
   ]
  },
  {
   "cell_type": "code",
   "execution_count": 111,
   "id": "d22ef53c-57aa-462a-a9a7-3511cfaca2d6",
   "metadata": {},
   "outputs": [
    {
     "data": {
      "text/plain": [
       "array([4, 5])"
      ]
     },
     "execution_count": 111,
     "metadata": {},
     "output_type": "execute_result"
    }
   ],
   "source": [
    "nd1[-2:]"
   ]
  },
  {
   "cell_type": "code",
   "execution_count": 113,
   "id": "b2e8bf7a-e674-4d4b-b4eb-5705ce36fd67",
   "metadata": {},
   "outputs": [
    {
     "data": {
      "text/plain": [
       "[array([ True,  True, False,  True,  True,  True])]"
      ]
     },
     "execution_count": 113,
     "metadata": {},
     "output_type": "execute_result"
    }
   ],
   "source": [
    "[nd1<8]"
   ]
  },
  {
   "cell_type": "code",
   "execution_count": 115,
   "id": "e38b9aa0-dcf3-4e2e-b904-b3b8b8fe7408",
   "metadata": {},
   "outputs": [
    {
     "data": {
      "text/plain": [
       "array([ 0,  1,  2, 31,  3,  4,  5])"
      ]
     },
     "execution_count": 115,
     "metadata": {},
     "output_type": "execute_result"
    }
   ],
   "source": [
    "nd2 = np.array([0,1,2,31,3,4,5])\n",
    "nd2\n"
   ]
  },
  {
   "cell_type": "code",
   "execution_count": 117,
   "id": "15211be7-126c-4ce9-b0af-909f7f894d29",
   "metadata": {},
   "outputs": [
    {
     "data": {
      "text/plain": [
       "(array([1, 2, 3, 4, 5, 6], dtype=int64),)"
      ]
     },
     "execution_count": 117,
     "metadata": {},
     "output_type": "execute_result"
    }
   ],
   "source": [
    "nd2.nonzero()"
   ]
  },
  {
   "cell_type": "code",
   "execution_count": 119,
   "id": "8d0c701c-8f78-4797-b1ec-fd790a0aa23c",
   "metadata": {},
   "outputs": [
    {
     "data": {
      "text/plain": [
       "array([ 0,  1,  2,  3, 54])"
      ]
     },
     "execution_count": 119,
     "metadata": {},
     "output_type": "execute_result"
    }
   ],
   "source": [
    "nd3 = np.array([0,1,2,3,54])\n",
    "nd3"
   ]
  },
  {
   "cell_type": "code",
   "execution_count": 123,
   "id": "c030146b-5d55-47ad-9b69-d76a2b27f5c2",
   "metadata": {},
   "outputs": [
    {
     "data": {
      "text/plain": [
       "array([  0,   4,   8,  12, 216])"
      ]
     },
     "execution_count": 123,
     "metadata": {},
     "output_type": "execute_result"
    }
   ],
   "source": [
    "nd3 =nd3 * 2\n",
    "nd3"
   ]
  },
  {
   "cell_type": "code",
   "execution_count": 125,
   "id": "153dd4f6-7df2-4bef-9d31-433b03c1353c",
   "metadata": {},
   "outputs": [
    {
     "data": {
      "text/plain": [
       "0"
      ]
     },
     "execution_count": 125,
     "metadata": {},
     "output_type": "execute_result"
    }
   ],
   "source": [
    "nd3.min()"
   ]
  },
  {
   "cell_type": "code",
   "execution_count": 127,
   "id": "f7b78556-b19b-4ad3-9049-7383d43cf9d0",
   "metadata": {},
   "outputs": [
    {
     "data": {
      "text/plain": [
       "216"
      ]
     },
     "execution_count": 127,
     "metadata": {},
     "output_type": "execute_result"
    }
   ],
   "source": [
    "nd3.max()"
   ]
  },
  {
   "cell_type": "code",
   "execution_count": 129,
   "id": "0b167c51-8500-46f2-b6cb-b4c1e84fd5b2",
   "metadata": {},
   "outputs": [
    {
     "data": {
      "text/plain": [
       "240"
      ]
     },
     "execution_count": 129,
     "metadata": {},
     "output_type": "execute_result"
    }
   ],
   "source": [
    "nd3.sum()"
   ]
  },
  {
   "cell_type": "code",
   "execution_count": null,
   "id": "c113ccb5-6535-4cbe-901f-eb5180e2f2f7",
   "metadata": {},
   "outputs": [],
   "source": []
  }
 ],
 "metadata": {
  "kernelspec": {
   "display_name": "Python 3 (ipykernel)",
   "language": "python",
   "name": "python3"
  },
  "language_info": {
   "codemirror_mode": {
    "name": "ipython",
    "version": 3
   },
   "file_extension": ".py",
   "mimetype": "text/x-python",
   "name": "python",
   "nbconvert_exporter": "python",
   "pygments_lexer": "ipython3",
   "version": "3.12.4"
  }
 },
 "nbformat": 4,
 "nbformat_minor": 5
}
