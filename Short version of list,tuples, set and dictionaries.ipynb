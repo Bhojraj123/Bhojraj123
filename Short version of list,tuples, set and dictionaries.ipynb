{
 "cells": [
  {
   "cell_type": "markdown",
   "id": "4195f1d9-8e6c-494e-8a3f-9f77f1457e42",
   "metadata": {},
   "source": [
    "# In Python, lists, tuples, sets, and dictionaries are all used to store collections of data, but they have key differences in how they are structured and used."
   ]
  },
  {
   "cell_type": "markdown",
   "id": "9db85758-e651-4237-b1d6-fabf9a5c8005",
   "metadata": {},
   "source": [
    "### 1. List:\n",
    "### Definition: A list is an ordered and mutable (changeable) collection of items.\n",
    "- Syntax: Defined using square brackets `[ ]`.\n",
    "   ### Features:\n",
    "   - Ordered: The order of elements is preserved.\n",
    "   - Mutable: You can add, remove, or modify elements.\n",
    "   - Allows duplicates: Lists can contain duplicate items.\n",
    "   - Use case: Lists are used when you need an ordered collection that can be changed."
   ]
  },
  {
   "cell_type": "code",
   "execution_count": 7,
   "id": "86823eb6-a1f0-488b-809a-660e02fb7873",
   "metadata": {},
   "outputs": [
    {
     "name": "stdout",
     "output_type": "stream",
     "text": [
      "[1, 2, 3, 4, 5]\n"
     ]
    }
   ],
   "source": [
    "my_list = [1, 2, 3, 4]\n",
    "my_list.append(5)  # Adds 5 to the list\n",
    "print(my_list)     # Output: [1, 2, 3, 4, 5]"
   ]
  },
  {
   "cell_type": "markdown",
   "id": "7950c879-5a05-401a-9d1d-a22bdacca53c",
   "metadata": {},
   "source": [
    "# 2. Tuple:"
   ]
  },
  {
   "cell_type": "markdown",
   "id": "ea3fb344-b69e-4ea2-b3f3-fde8fa0b1dce",
   "metadata": {},
   "source": [
    "##  Definition: A tuple is an ordered but immutable (unchangeable) collection of items.\n",
    "- Syntax: Defined using parentheses `( )`."
   ]
  },
  {
   "cell_type": "markdown",
   "id": "4258f738-0383-47cc-89ca-2e1d9d13a6bd",
   "metadata": {},
   "source": [
    "### Features\n",
    "- Ordered: Like lists, the order of elements is preserved.\n",
    "- Immutable: Once created, elements cannot be changed, added, or removed.\n",
    "- Allows duplicates: Tuples can contain duplicate items.\n",
    "- Use case: Tuples are used when you need an ordered collection that should not be modified."
   ]
  },
  {
   "cell_type": "markdown",
   "id": "06f514d1-9821-48dd-8960-d156f651dac5",
   "metadata": {},
   "source": [
    "### Example:"
   ]
  },
  {
   "cell_type": "code",
   "execution_count": 26,
   "id": "1ed88340-92e1-4dd2-b4e7-83a559e32c5e",
   "metadata": {},
   "outputs": [
    {
     "name": "stdout",
     "output_type": "stream",
     "text": [
      "1\n"
     ]
    }
   ],
   "source": [
    "\n",
    "my_tuple = (1,2,3,4)\n",
    "print(my_tuple[0])   # Output: 1\n",
    "# Trying to modify it will raise an error\n",
    "# my_tuple[0] = 10  # This will cause a TypeError"
   ]
  },
  {
   "cell_type": "markdown",
   "id": "0e610373-6d2d-4920-bfd3-e44f32f2ad99",
   "metadata": {},
   "source": [
    "# 3. Set:\n",
    "- Definition: A set is an unordered collection of unique items.\n",
    "- Syntax: Defined using curly braces `{ }` or the `set()` function."
   ]
  },
  {
   "cell_type": "markdown",
   "id": "9d1b0b79-1975-4808-b07c-4a9d25d34140",
   "metadata": {},
   "source": [
    "### - Features:\n",
    "- Unordered: The elements are not stored in any specific order.\n",
    "- Mutable: You can add and remove elements, but not change an existing element.\n",
    "- No duplicates: Sets do not allow duplicate items. If you try to add a duplicate, it will be ignored.\n",
    "- Use case: Sets are used when you need a collection of unique elements, and the order doesn’t matter."
   ]
  },
  {
   "cell_type": "markdown",
   "id": "df330480-b21d-4440-ade8-6effb8f1cacc",
   "metadata": {},
   "source": [
    "### Example:"
   ]
  },
  {
   "cell_type": "code",
   "execution_count": 29,
   "id": "61e61675-ba93-4bc5-82ed-7f7b91264efe",
   "metadata": {},
   "outputs": [
    {
     "name": "stdout",
     "output_type": "stream",
     "text": [
      "{1, 2, 3, 4, 5}\n",
      "{1, 2, 3, 4, 5}\n"
     ]
    }
   ],
   "source": [
    "\n",
    "my_set = {1, 2, 3, 4}\n",
    "my_set.add(5)   # Adds 5 to the set\n",
    "print(my_set)   # Output: {1, 2, 3, 4, 5}\n",
    "my_set.add(3)   # Adding a duplicate, no change\n",
    "print(my_set)   # Output: {1, 2, 3, 4, 5}"
   ]
  },
  {
   "cell_type": "markdown",
   "id": "fbd947dd-ed29-482e-80d6-e406ee508625",
   "metadata": {},
   "source": [
    "# 4. Dictionary:\n",
    "- Definition: A dictionary is an unordered collection of key-value pairs.\n",
    "- Syntax: Defined using curly braces `{ }`, with each pair separated by a colon `:` (key: value)."
   ]
  },
  {
   "cell_type": "markdown",
   "id": "d93ec118-1818-4f57-88d3-8f82d2f0518c",
   "metadata": {},
   "source": [
    "###  - Features:\n",
    "- Unordered: In Python versions before 3.7, dictionaries were unordered. Starting from Python 3.7+, they maintain insertion order.\n",
    "- Mutable: You can change, add, or remove key-value pairs.\n",
    "- No duplicate keys: Each key in a dictionary must be unique, but values can be duplicated.\n",
    "- Use case: Dictionaries are used when you need to associate keys with values, similar to a lookup table."
   ]
  },
  {
   "cell_type": "markdown",
   "id": "5c63ce99-a365-4056-bcff-2001ea2cd218",
   "metadata": {},
   "source": [
    "### Example:"
   ]
  },
  {
   "cell_type": "code",
   "execution_count": 68,
   "id": "5bac1496-9572-4c5f-9650-203daac7cef9",
   "metadata": {},
   "outputs": [
    {
     "name": "stdout",
     "output_type": "stream",
     "text": [
      "[{'name': 'Alice', 'age': 36, 'city': 'New York'}, {'name': 'Sita', 'age': 24, 'city': 'Maryland'}, {'name': 'Ram', 'age': 23, 'city': 'Verginia'}]\n"
     ]
    }
   ],
   "source": [
    " my_dict = [{'name': 'Alice', 'age': 25, 'city': 'New York'},\n",
    "           {'name': 'Hari', 'age': 24, 'city': 'Maryland'},\n",
    "           {'name': 'Ram', 'age': 23, 'city': 'Verginia'}]\n",
    "\n",
    "# Update the age of Alice\n",
    "my_dict[0]['age'] = 36\n",
    "\n",
    "# To rename the 'name' key's value from 'Alice' to 'Sita'\n",
    "my_dict[1]['name'] = \"Sita\"\n",
    "\n",
    "print(my_dict)\n"
   ]
  },
  {
   "cell_type": "code",
   "execution_count": null,
   "id": "0f1117e7-2149-4572-8e7b-6395fd028b72",
   "metadata": {},
   "outputs": [],
   "source": []
  }
 ],
 "metadata": {
  "kernelspec": {
   "display_name": "Python 3 (ipykernel)",
   "language": "python",
   "name": "python3"
  },
  "language_info": {
   "codemirror_mode": {
    "name": "ipython",
    "version": 3
   },
   "file_extension": ".py",
   "mimetype": "text/x-python",
   "name": "python",
   "nbconvert_exporter": "python",
   "pygments_lexer": "ipython3",
   "version": "3.12.4"
  }
 },
 "nbformat": 4,
 "nbformat_minor": 5
}
